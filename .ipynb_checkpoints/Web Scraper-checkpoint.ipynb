{
 "cells": [
  {
   "cell_type": "code",
   "execution_count": 1,
   "id": "c0394834",
   "metadata": {},
   "outputs": [],
   "source": [
    "from bs4 import BeautifulSoup\n",
    "import requests\n",
    "import scrapy\n",
    "import csv\n",
    "import gspread\n",
    "from oauth2client.service_account import ServiceAccountCredentials\n"
   ]
  },
  {
   "cell_type": "code",
   "execution_count": 2,
   "id": "c58acef6-aeaa-498e-9073-554bea5e218e",
   "metadata": {},
   "outputs": [],
   "source": [
    "#insert Competitor URLS and use Requests to get the website urls.\n",
    "comp1url = 'https://www.mckinsey.com'\n",
    "comp2url = 'https://www.bcg.com'\n",
    "comp3url = 'https://www2.deloitte.com/us/en.html'\n",
    "\n",
    "comppage1 = requests.get(comp1url)\n",
    "comppage2 = requests.get(comp2url)\n",
    "comppage3 = requests.get(comp3url)\n"
   ]
  },
  {
   "cell_type": "code",
   "execution_count": 3,
   "id": "4326025f-be72-4ae6-8ece-4fd03deadc9b",
   "metadata": {},
   "outputs": [],
   "source": [
    "#Beautiful Soup for Competitor pages and parse it in html format\n",
    "compsoup1 = BeautifulSoup(comppage1.text, 'html.parser')\n",
    "compsoup2 = BeautifulSoup(comppage2.text, 'html.parser')\n",
    "compsoup3 = BeautifulSoup(comppage3.text, 'html.parser')"
   ]
  },
  {
   "cell_type": "code",
   "execution_count": 5,
   "id": "171ee4e2-c3f8-4bf2-a8a2-b1ba362429fe",
   "metadata": {},
   "outputs": [],
   "source": [
    "#insert Industry News Reports URLS and use Requests to get the website urls.\n",
    "\n",
    "news1url = 'https://www.bloomberg.com'\n",
    "news2url = 'https://www.reuters.com'\n",
    "news3url = 'https://www.ft.com'\n",
    "\n",
    "newspage1 = requests.get(news1url)\n",
    "newspage2 = requests.get(news2url)\n",
    "newspage3 = requests.get(news3url)\n"
   ]
  },
  {
   "cell_type": "code",
   "execution_count": 6,
   "id": "988ff546-8295-4266-a269-76e9bec907ef",
   "metadata": {},
   "outputs": [],
   "source": [
    "#Beautiful Soup for Industry News Report pages and parse it in html format\n",
    "newssoup1 = BeautifulSoup(newspage1.text, 'html.parser')\n",
    "newssoup2 = BeautifulSoup(newspage2.text, 'html.parser')\n",
    "newssoup3 = BeautifulSoup(newspage3.text, 'html.parser')"
   ]
  },
  {
   "cell_type": "code",
   "execution_count": 10,
   "id": "8a4fa58e-f52b-492d-9e94-f6c170f7ff5a",
   "metadata": {},
   "outputs": [],
   "source": [
    "#insert Market Research URLS and use Requests to get the website urls.\n",
    "\n",
    "market1url = 'https://www.statista.com'\n",
    "market2url = 'https://www.marketresearch.com'\n",
    "market3url = 'https://www.ibisworld.com'\n",
    "\n",
    "marketpage1 = requests.get(market1url)\n",
    "marketpage2 = requests.get(market2url)\n",
    "marketpage3 = requests.get(market3url)"
   ]
  },
  {
   "cell_type": "code",
   "execution_count": 12,
   "id": "63dd9d39-daeb-4e8f-bd5c-61cea9cf0e09",
   "metadata": {},
   "outputs": [],
   "source": [
    "#Beautiful Soup for Market Research pages and parse it in html format\n",
    "marketsoup1 = BeautifulSoup(marketpage1.text, 'html.parser')\n",
    "marketsoup2 = BeautifulSoup(marketpage2.text, 'html.parser')\n",
    "marketsoup3 = BeautifulSoup(marketpage3.text, 'html.parser')"
   ]
  },
  {
   "cell_type": "code",
   "execution_count": 13,
   "id": "b38c093a-5e63-4f38-adb3-650f2d57377a",
   "metadata": {},
   "outputs": [],
   "source": [
    "#Scrap Competitor websites for service offerings, case studies, client testimonials, thought leadership articles, and market insights.\n",
    "\n",
    "data1 = {\n",
    "    \"service_offerings\" : [],\n",
    "    \"case_studies\" : [],\n",
    "    \"client_testimonials\" : [],\n",
    "    \"thought_leadership\" : [],\n",
    "    \"market_insight\" : []\n",
    "\n",
    "}\n",
    "\n",
    "#McKinsey \n",
    "\n",
    "service_url1 = \"https://www.mckinsey.com/capabilities/operations/how-we-help-clients/service-operations\"\n",
    "service_page1 = requests.get(service_url1)\n",
    "service_soup1 = BeautifulSoup(service_page1.text, 'html.parser')\n",
    "service_section1 = service_soup1.find_all('h5', class_='mdc-c-heading___0fM1W_8768510 mdc-u-ts-6')\n",
    "for service in service_section1:\n",
    "    data1['service_offerings'].append(service.get_text())\n",
    "\n",
    "case_url1 = 'https://www.mckinsey.com/about-us/case-studies'\n",
    "case_page1 = requests.get(case_url1)\n",
    "case_soup1 = BeautifulSoup(case_page1.text, 'html.parser')\n",
    "case_section1 = case_soup1.find_all('h5', class_='mdc-c-heading___0fM1W_8768510')\n",
    "for cases in case_section1:\n",
    "    data1['case_studies'].append(cases.get_text())\n",
    "\n",
    "client_url1 = 'https://www.mckinsey.com/capabilities/operations/how-we-help-clients/operations-excellence-program/testimonials'\n",
    "client_page1 = requests.get(client_url1)\n",
    "client_soup1 = BeautifulSoup(client_page1.text, 'html.parser')\n",
    "client_section1 = client_soup1.find_all('div', class_=\"mdc-c-description___SrnQP_8768510 mdc-u-ts-7\")\n",
    "for testimonies in client_section1:\n",
    "    data1[\"client_testimonials\"].append(testimonies.get_text())\n",
    "\n",
    "leadership_url1 = \"https://www.mckinsey.com/featured-insights/leadership\"\n",
    "leadership_page1 = requests.get(leadership_url1)\n",
    "leadership_soup1 = BeautifulSoup(leadership_page1.text, 'html.parser')\n",
    "leadership_section1 = leadership_soup1.find_all('h5', class_='mdc-c-heading___0fM1W_8768510')\n",
    "for leadership in leadership_section1:\n",
    "    data1[\"thought_leadership\"].append(leadership.get_text())\n",
    "\n",
    "market_url1 = \"https://www.mckinsey.com/capabilities/growth-marketing-and-sales/how-we-help-clients/insights-and-analytics\"\n",
    "market_page1 = requests.get(market_url1)\n",
    "market_soup1 = BeautifulSoup(market_page1.text, 'html.parser')\n",
    "market_section1 = market_soup1.find_all('p')\n",
    "for market in market_section1:\n",
    "    data1[\"market_insight\"].append(market.get_text())"
   ]
  },
  {
   "cell_type": "code",
   "execution_count": 22,
   "id": "408fda92-99a5-46de-9cea-809376cf471e",
   "metadata": {},
   "outputs": [
    {
     "name": "stdout",
     "output_type": "stream",
     "text": [
      "['Artificial Intelligence', 'Business Resilience ', 'Business Transformation', 'Business and Organizational Purpose', 'Climate Change and Sustainability', 'Corporate Finance and Strategy', 'Cost Management', 'Customer Insights', 'Digital, Technology, and Data', 'Diversity, Equity, and Inclusion', 'Innovation Strategy and Delivery', 'International Business', 'M&A, Transactions, and PMI', 'Manufacturing', 'Marketing and Sales', 'Operations', 'Organization Strategy', 'People Strategy', 'Pricing and Revenue Management', 'Risk Management and Compliance', 'Social Impact', 'Zero-Based Budgeting']\n"
     ]
    }
   ],
   "source": [
    "#BCG \n",
    "\n",
    "data2 = {\n",
    "    \"service_offerings\" : [],\n",
    "    \"case_studies\" : [],\n",
    "    \"client_testimonials\" : [],\n",
    "    \"thought_leadership\" : [],\n",
    "    \"market_insight\" : []\n",
    "\n",
    "}\n",
    "\n",
    "service_url2 = \"https://www.bcg.com/capabilities\"\n",
    "service_page2 = requests.get(service_url2)\n",
    "service_soup2 = BeautifulSoup(service_page2.text, 'html.parser')\n",
    "service_section2 = service_soup2.find_all('p', class_=\"featured-collection__title\")\n",
    "for service in service_section2:\n",
    "    data2['service_offerings'].append(service.get_text())\n",
    "\n",
    "print(data2['service_offerings'])\n",
    "\n",
    "#Unable to find any data on case studies on BCG. They only provided tips on how to conduct case studies. No information about their case studies.\n",
    "\n",
    "#Not so much as client testimonials, but provided examples as to what sucessful projects they have from certain clients.\n",
    "client_url2 = \"https://www.bcg.com/capabilities/digital-technology-data/client-success\" \n",
    "client_page2 = requests.get(client_url2)\n",
    "client_soup2 = BeautifulSoup(client_page2.text, 'html.parser')\n",
    "client_section2 = client_soup2.find_all('h3', class_=\"article-block__title article-block__title--linked\")\n",
    "for testimonies in client_section2:\n",
    "    data2[\"client_testimonials\"].append(testimonies.get_text())\n",
    "\n",
    "\n"
   ]
  },
  {
   "cell_type": "code",
   "execution_count": 15,
   "id": "aaef6445-e212-4cc4-a335-a6dfafaf694f",
   "metadata": {},
   "outputs": [
    {
     "data": {
      "text/plain": [
       "{'spreadsheetId': '1dG5TJOocc4n7REAFzKwsvtO2aYX5kSug1fQRO0mWtY4',\n",
       " 'updatedRange': 'McKinsey!E2',\n",
       " 'updatedRows': 1,\n",
       " 'updatedColumns': 1,\n",
       " 'updatedCells': 1}"
      ]
     },
     "execution_count": 15,
     "metadata": {},
     "output_type": "execute_result"
    }
   ],
   "source": [
    "scope = [\"https://spreadsheets.google.com/feeds\", \"https://www.googleapis.com/auth/drive\"]\n",
    "creds = ServiceAccountCredentials.from_json_keyfile_name('web-scraper-425600-7945995f3c7a.json', scope)\n",
    "client = gspread.authorize(creds)\n",
    "\n",
    "#McKinsey Data\n",
    "sheet1 = client.open(\"Web Scraping Data\").worksheet(\"McKinsey\")\n",
    "\n",
    "services1 = ','.join(data1['service_offerings'])\n",
    "casestudies1 = ','.join(data1['case_studies'])\n",
    "clienttestimonies1 = ','.join(data1['client_testimonials'])\n",
    "leadership1 = ','.join(data1['thought_leadership'])\n",
    "market1 = ','.join(data1['market_insight'])\n",
    "\n",
    "sheet1.update_cell(1,1, \"Service Offerings\")\n",
    "sheet1.update_cell(2,1, services1)\n",
    "\n",
    "sheet1.update_cell(1,2, \"Case Studies\")\n",
    "sheet1.update_cell(2,2, casestudies1)\n",
    "\n",
    "sheet1.update_cell(1,3, \"Client Testimonials\")\n",
    "sheet1.update_cell(2,3, clienttestimonies1)\n",
    "\n",
    "sheet1.update_cell(1,4, \"Thought Leadership\")\n",
    "sheet1.update_cell(2,4, leadership1)\n",
    "\n",
    "sheet1.update_cell(1,5, \"Market Insight\")\n",
    "sheet1.update_cell(2,5, market1)\n"
   ]
  },
  {
   "cell_type": "code",
   "execution_count": null,
   "id": "047ac450-fb81-4a1a-8cf6-80de19c13e08",
   "metadata": {},
   "outputs": [],
   "source": []
  }
 ],
 "metadata": {
  "kernelspec": {
   "display_name": "Python 3 (ipykernel)",
   "language": "python",
   "name": "python3"
  },
  "language_info": {
   "codemirror_mode": {
    "name": "ipython",
    "version": 3
   },
   "file_extension": ".py",
   "mimetype": "text/x-python",
   "name": "python",
   "nbconvert_exporter": "python",
   "pygments_lexer": "ipython3",
   "version": "3.12.3"
  }
 },
 "nbformat": 4,
 "nbformat_minor": 5
}
