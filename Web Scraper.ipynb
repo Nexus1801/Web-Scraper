{
 "cells": [
  {
   "cell_type": "code",
   "execution_count": 1,
   "id": "c0394834",
   "metadata": {},
   "outputs": [],
   "source": [
    "from bs4 import BeautifulSoup\n",
    "import requests\n",
    "import scrapy\n",
    "import csv\n"
   ]
  },
  {
   "cell_type": "code",
   "execution_count": 18,
   "id": "c58acef6-aeaa-498e-9073-554bea5e218e",
   "metadata": {},
   "outputs": [],
   "source": [
    "#insert Competitor URLS and use Requests to get the website urls.\n",
    "comp1url = 'https://www.mckinsey.com'\n",
    "comp2url = 'https://www.bcg.com'\n",
    "comp3url = 'https://www2.deloitte.com/us/en.html'\n",
    "\n",
    "comppage1 = requests.get(comp1url)\n",
    "comppage2 = requests.get(comp2url)\n",
    "comppage3 = requests.get(comp3url)\n"
   ]
  },
  {
   "cell_type": "code",
   "execution_count": 19,
   "id": "4326025f-be72-4ae6-8ece-4fd03deadc9b",
   "metadata": {},
   "outputs": [],
   "source": [
    "#Beautiful Soup for Competitor pages and parse it in html format\n",
    "compsoup1 = BeautifulSoup(comppage1.text, 'html.parser')\n",
    "compsoup2 = BeautifulSoup(comppage2.text, 'html.parser')\n",
    "compsoup3 = BeautifulSoup(comppage3.text, 'html.parser')"
   ]
  },
  {
   "cell_type": "code",
   "execution_count": 20,
   "id": "171ee4e2-c3f8-4bf2-a8a2-b1ba362429fe",
   "metadata": {},
   "outputs": [],
   "source": [
    "#insert Industry News Reports URLS and use Requests to get the website urls.\n",
    "\n",
    "news1url = 'https://www.bloomberg.com'\n",
    "news2url = 'https://www.reuters.com'\n",
    "news3url = 'https://www.ft.com'\n",
    "\n",
    "newspage1 = requests.get(news1url)\n",
    "newspage2 = requests.get(news2url)\n",
    "newspage3 = requests.get(news3url)\n"
   ]
  },
  {
   "cell_type": "code",
   "execution_count": null,
   "id": "988ff546-8295-4266-a269-76e9bec907ef",
   "metadata": {},
   "outputs": [],
   "source": [
    "newssoup1 = BeautifulSoup"
   ]
  }
 ],
 "metadata": {
  "kernelspec": {
   "display_name": "Python 3 (ipykernel)",
   "language": "python",
   "name": "python3"
  },
  "language_info": {
   "codemirror_mode": {
    "name": "ipython",
    "version": 3
   },
   "file_extension": ".py",
   "mimetype": "text/x-python",
   "name": "python",
   "nbconvert_exporter": "python",
   "pygments_lexer": "ipython3",
   "version": "3.12.3"
  }
 },
 "nbformat": 4,
 "nbformat_minor": 5
}
