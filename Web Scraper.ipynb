{
 "cells": [
  {
   "cell_type": "code",
   "execution_count": 1,
   "id": "c0394834",
   "metadata": {},
   "outputs": [],
   "source": [
    "from bs4 import BeautifulSoup\n",
    "import requests\n",
    "import scrapy\n",
    "import csv\n"
   ]
  },
  {
   "cell_type": "code",
   "execution_count": 15,
   "id": "c58acef6-aeaa-498e-9073-554bea5e218e",
   "metadata": {},
   "outputs": [],
   "source": [
    "#insert Competitor URLS and use Requests to get the website urls.\n",
    "comp1url = 'https://www.mckinsey.com'\n",
    "comp2url = 'https://www.bcg.com'\n",
    "comp3url = 'https://www2.deloitte.com/us/en.html'\n",
    "\n",
    "comppage1 = requests.get(comp1url)\n",
    "comppage1 = requests.get(comp1url)\n",
    "comppage1 = requests.get(comp1url)\n"
   ]
  },
  {
   "cell_type": "code",
   "execution_count": 16,
   "id": "4326025f-be72-4ae6-8ece-4fd03deadc9b",
   "metadata": {},
   "outputs": [],
   "source": [
    "#Beautiful Soup for Competitor pages and parse it in html format\n",
    "compsoup1 = BeautifulSoup(comppage1.text, 'html.parser')\n",
    "compsoup2 = BeautifulSoup(comppage2.text, 'html.parser')\n",
    "compsoup3 = BeautifulSoup(comppage3.text, 'html.parser')"
   ]
  },
  {
   "cell_type": "code",
   "execution_count": null,
   "id": "171ee4e2-c3f8-4bf2-a8a2-b1ba362429fe",
   "metadata": {},
   "outputs": [],
   "source": []
  }
 ],
 "metadata": {
  "kernelspec": {
   "display_name": "Python 3 (ipykernel)",
   "language": "python",
   "name": "python3"
  },
  "language_info": {
   "codemirror_mode": {
    "name": "ipython",
    "version": 3
   },
   "file_extension": ".py",
   "mimetype": "text/x-python",
   "name": "python",
   "nbconvert_exporter": "python",
   "pygments_lexer": "ipython3",
   "version": "3.12.3"
  }
 },
 "nbformat": 4,
 "nbformat_minor": 5
}
